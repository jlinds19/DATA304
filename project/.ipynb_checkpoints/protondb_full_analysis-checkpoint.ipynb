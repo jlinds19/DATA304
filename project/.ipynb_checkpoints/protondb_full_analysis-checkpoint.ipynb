{
 "cells": [
  {
   "cell_type": "markdown",
   "id": "9008d74d",
   "metadata": {},
   "source": [
    "# ProtonDB Full Analysis\n",
    "\n",
    "A complete walkthrough of ProtonDB data using SQLite, exploring distro and GPU trends, sentiment, and gameplay tweaks."
   ]
  },
  {
   "cell_type": "code",
   "execution_count": null,
   "id": "9ec51d80",
   "metadata": {},
   "outputs": [],
   "source": [
    "# Imports\n",
    "import pandas as pd\n",
    "import matplotlib.pyplot as plt\n",
    "import seaborn as sns\n",
    "import sqlite3\n",
    "from textblob import TextBlob\n",
    "from collections import Counter\n",
    "import warnings\n",
    "warnings.filterwarnings('ignore')"
   ]
  },
  {
   "cell_type": "markdown",
   "id": "a3dc968b",
   "metadata": {},
   "source": [
    "## Load ProtonDB Data"
   ]
  },
  {
   "cell_type": "code",
   "execution_count": null,
   "id": "dcfd2e20",
   "metadata": {},
   "outputs": [],
   "source": [
    "# Connect to DB and load report data\n",
    "conn = sqlite3.connect('/mnt/data/proton_reports.sqlite')\n",
    "df = pd.read_sql_query('SELECT * FROM reports', conn)\n",
    "df.shape"
   ]
  },
  {
   "cell_type": "markdown",
   "id": "1770340a",
   "metadata": {},
   "source": [
    "## Linux Distro Usage"
   ]
  },
  {
   "cell_type": "code",
   "execution_count": null,
   "id": "64fe08cd",
   "metadata": {},
   "outputs": [],
   "source": [
    "def categorize_os(os):\n",
    "    os = os.lower()\n",
    "    if 'arch' in os:\n",
    "        return 'Arch Linux'\n",
    "    elif 'ubuntu' in os:\n",
    "        return 'Ubuntu'\n",
    "    elif 'debian' in os:\n",
    "        return 'Debian'\n",
    "    elif 'fedora' in os:\n",
    "        return 'Fedora'\n",
    "    elif 'manjaro' in os:\n",
    "        return 'Manjaro'\n",
    "    elif 'opensuse' in os:\n",
    "        return 'openSUSE'\n",
    "    elif 'pop!_os' in os:\n",
    "        return 'Pop!_OS'\n",
    "    elif 'mint' in os:\n",
    "        return 'Linux Mint'\n",
    "    elif 'steamos' in os or 'holo' in os:\n",
    "        return 'SteamOS'\n",
    "    elif 'endeavouros' in os:\n",
    "        return 'EndeavourOS'\n",
    "    else:\n",
    "        return 'Other'\n",
    "\n",
    "os_df = df[df['systemInfo.os'].notnull()].copy()\n",
    "os_df['os_family'] = os_df['systemInfo.os'].apply(categorize_os)\n",
    "os_counts = os_df['os_family'].value_counts()\n",
    "sns.barplot(x=os_counts.index, y=os_counts.values, palette='muted')\n",
    "plt.title('Distribution of Linux Distros Among ProtonDB Reports')\n",
    "plt.xlabel('Linux Distro')\n",
    "plt.ylabel('Number of Reports')\n",
    "plt.xticks(rotation=45)\n",
    "plt.tight_layout()\n",
    "plt.show()"
   ]
  },
  {
   "cell_type": "markdown",
   "id": "810557fd",
   "metadata": {},
   "source": [
    "## GPU Vendor vs Linux Distro (Heatmap)"
   ]
  },
  {
   "cell_type": "code",
   "execution_count": null,
   "id": "d49cf188",
   "metadata": {},
   "outputs": [],
   "source": [
    "def categorize_gpu(gpu):\n",
    "    gpu = gpu.lower()\n",
    "    if 'nvidia' in gpu:\n",
    "        return 'NVIDIA'\n",
    "    elif 'amd' in gpu or 'radeon' in gpu:\n",
    "        return 'AMD'\n",
    "    elif 'intel' in gpu:\n",
    "        return 'Intel'\n",
    "    else:\n",
    "        return 'Other'\n",
    "\n",
    "gpu_df = df[df['systemInfo.os'].notnull() & df['systemInfo.gpu'].notnull()].copy()\n",
    "gpu_df['os_family'] = gpu_df['systemInfo.os'].apply(categorize_os)\n",
    "gpu_df['gpu_vendor'] = gpu_df['systemInfo.gpu'].apply(categorize_gpu)\n",
    "heatmap_data = gpu_df.pivot_table(index='gpu_vendor', columns='os_family', aggfunc='size', fill_value=0)\n",
    "plt.figure(figsize=(12, 6))\n",
    "sns.heatmap(heatmap_data, annot=True, fmt='d', cmap='YlGnBu')\n",
    "plt.title('GPU Vendor vs Linux Distro')\n",
    "plt.tight_layout()\n",
    "plt.show()"
   ]
  },
  {
   "cell_type": "markdown",
   "id": "25adf716",
   "metadata": {},
   "source": [
    "## Sentiment Over Time"
   ]
  },
  {
   "cell_type": "code",
   "execution_count": null,
   "id": "60561638",
   "metadata": {},
   "outputs": [],
   "source": [
    "sent_df = df[df['responses.concludingNotes'].notnull()][['timestamp', 'responses.concludingNotes']].copy()\n",
    "sent_df['date'] = pd.to_datetime(sent_df['timestamp'], unit='s')\n",
    "sent_df['year_month'] = sent_df['date'].dt.to_period('M')\n",
    "sent_df['sentiment'] = sent_df['responses.concludingNotes'].apply(lambda x: TextBlob(str(x)).sentiment.polarity)\n",
    "monthly_sent = sent_df.groupby('year_month')['sentiment'].mean().reset_index()\n",
    "monthly_sent['year_month'] = monthly_sent['year_month'].astype(str)\n",
    "plt.figure(figsize=(12, 5))\n",
    "sns.lineplot(data=monthly_sent, x='year_month', y='sentiment')\n",
    "plt.xticks(rotation=45, ha='right')\n",
    "plt.title('Average Sentiment Over Time')\n",
    "plt.xlabel('Month')\n",
    "plt.ylabel('Average Sentiment Score')\n",
    "plt.tight_layout()\n",
    "plt.show()"
   ]
  }
 ],
 "metadata": {},
 "nbformat": 4,
 "nbformat_minor": 5
}
