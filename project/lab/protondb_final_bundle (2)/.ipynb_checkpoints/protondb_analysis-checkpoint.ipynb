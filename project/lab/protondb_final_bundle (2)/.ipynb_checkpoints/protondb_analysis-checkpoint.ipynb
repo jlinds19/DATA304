{
 "cells": [
  {
   "cell_type": "code",
   "execution_count": null,
   "id": "c1502de9",
   "metadata": {},
   "outputs": [],
   "source": [
    "import pandas as pd\n",
    "import seaborn as sns\n",
    "import matplotlib.pyplot as plt\n",
    "from textblob import TextBlob\n",
    "import sqlite3\n",
    "from collections import Counter\n",
    "import warnings\n",
    "warnings.filterwarnings('ignore')"
   ]
  },
  {
   "cell_type": "markdown",
   "id": "dc77a4df",
   "metadata": {},
   "source": [
    "# ProtonDB Analysis: Hardware, Software, and Sentiment Insights\n",
    "\n",
    "This notebook walks through key findings from ProtonDB data — from Linux distro usage to GPU trends, user sentiment, and tinkering insights."
   ]
  },
  {
   "cell_type": "markdown",
   "id": "230d5559",
   "metadata": {},
   "source": [
    "## 1. Linux Distro Usage\n",
    "This bar chart shows the number of ProtonDB reports per Linux distro."
   ]
  },
  {
   "cell_type": "code",
   "execution_count": null,
   "id": "a0cf9fc6",
   "metadata": {},
   "outputs": [],
   "source": [
    "def categorize_os(os):\n",
    "    os = os.lower()\n",
    "    if 'arch' in os:\n",
    "        return 'Arch Linux'\n",
    "    elif 'ubuntu' in os:\n",
    "        return 'Ubuntu'\n",
    "    elif 'debian' in os:\n",
    "        return 'Debian'\n",
    "    elif 'fedora' in os:\n",
    "        return 'Fedora'\n",
    "    elif 'manjaro' in os:\n",
    "        return 'Manjaro'\n",
    "    elif 'opensuse' in os:\n",
    "        return 'openSUSE'\n",
    "    elif 'pop!_os' in os:\n",
    "        return 'Pop!_OS'\n",
    "    elif 'mint' in os:\n",
    "        return 'Linux Mint'\n",
    "    elif 'steamos' in os or 'holo' in os:\n",
    "        return 'SteamOS'\n",
    "    elif 'endeavouros' in os:\n",
    "        return 'EndeavourOS'\n",
    "    else:\n",
    "        return 'Other'\n",
    "\n",
    "conn = sqlite3.connect('/mnt/data/proton_reports.sqlite')\n",
    "os_df = pd.read_sql_query(\"SELECT `systemInfo.os` AS os FROM reports WHERE os IS NOT NULL\", conn)\n",
    "os_df['os_family'] = os_df['os'].apply(categorize_os)\n",
    "os_counts = os_df['os_family'].value_counts()\n",
    "sns.barplot(x=os_counts.index, y=os_counts.values, palette='muted')\n",
    "plt.title('Distribution of Linux Distros Among ProtonDB Reports')\n",
    "plt.xlabel('Linux Distro')\n",
    "plt.ylabel('Number of Reports')\n",
    "plt.xticks(rotation=45)\n",
    "plt.tight_layout()\n",
    "plt.show()"
   ]
  },
  {
   "cell_type": "markdown",
   "id": "1b4415f6",
   "metadata": {},
   "source": [
    "## 2. Sentiment Over Time\n",
    "Sentiment analysis of user notes reveals Proton’s growing reliability."
   ]
  },
  {
   "cell_type": "code",
   "execution_count": null,
   "id": "59d5bb90",
   "metadata": {},
   "outputs": [],
   "source": [
    "sentiment_df = pd.read_sql_query(\"\"\"\n",
    "SELECT `timestamp` AS unix_time, `responses.concludingNotes` AS notes FROM reports\n",
    "WHERE `responses.concludingNotes` IS NOT NULL\n",
    "\"\"\", conn)\n",
    "sentiment_df['notes'] = sentiment_df['notes'].astype(str).str.lower()\n",
    "sentiment_df['date'] = pd.to_datetime(sentiment_df['unix_time'], unit='s')\n",
    "sentiment_df['year_month'] = sentiment_df['date'].dt.to_period('M')\n",
    "sentiment_df['sentiment'] = sentiment_df['notes'].apply(lambda x: TextBlob(x).sentiment.polarity)\n",
    "monthly_sentiment = sentiment_df.groupby('year_month')['sentiment'].mean().reset_index()\n",
    "monthly_sentiment['year_month'] = monthly_sentiment['year_month'].astype(str)\n",
    "sns.lineplot(data=monthly_sentiment, x='year_month', y='sentiment')\n",
    "plt.xticks(rotation=45, ha='right')\n",
    "plt.title('Average Sentiment of ProtonDB Reports Over Time')\n",
    "plt.xlabel('Month')\n",
    "plt.ylabel('Average Sentiment Score')\n",
    "plt.tight_layout()\n",
    "plt.show()"
   ]
  }
 ],
 "metadata": {},
 "nbformat": 4,
 "nbformat_minor": 5
}
