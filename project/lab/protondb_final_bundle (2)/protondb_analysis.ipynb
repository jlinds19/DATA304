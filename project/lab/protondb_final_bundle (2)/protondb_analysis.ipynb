{
 "cells": [
  {
   "cell_type": "code",
   "execution_count": 2,
   "id": "c1502de9",
   "metadata": {},
   "outputs": [],
   "source": [
    "import pandas as pd\n",
    "import seaborn as sns\n",
    "import matplotlib.pyplot as plt\n",
    "import sqlite3\n",
    "from collections import Counter\n",
    "import warnings\n",
    "warnings.filterwarnings('ignore')"
   ]
  },
  {
   "cell_type": "markdown",
   "id": "dc77a4df",
   "metadata": {},
   "source": [
    "# ProtonDB Analysis: Hardware, Software, and Sentiment Insights\n",
    "\n",
    "This notebook walks through key findings from ProtonDB data — from Linux distro usage to GPU trends, user sentiment, and tinkering insights."
   ]
  },
  {
   "cell_type": "markdown",
   "id": "230d5559",
   "metadata": {},
   "source": [
    "## 1. Linux Distro Usage\n",
    "This bar chart shows the number of ProtonDB reports per Linux distro."
   ]
  },
  {
   "cell_type": "code",
   "execution_count": 3,
   "id": "a0cf9fc6",
   "metadata": {},
   "outputs": [
    {
     "ename": "OperationalError",
     "evalue": "unable to open database file",
     "output_type": "error",
     "traceback": [
      "\u001b[31m---------------------------------------------------------------------------\u001b[39m",
      "\u001b[31mOperationalError\u001b[39m                          Traceback (most recent call last)",
      "\u001b[36mCell\u001b[39m\u001b[36m \u001b[39m\u001b[32mIn[3]\u001b[39m\u001b[32m, line 26\u001b[39m\n\u001b[32m     23\u001b[39m     \u001b[38;5;28;01melse\u001b[39;00m:\n\u001b[32m     24\u001b[39m         \u001b[38;5;28;01mreturn\u001b[39;00m \u001b[33m'\u001b[39m\u001b[33mOther\u001b[39m\u001b[33m'\u001b[39m\n\u001b[32m---> \u001b[39m\u001b[32m26\u001b[39m conn = \u001b[43msqlite3\u001b[49m\u001b[43m.\u001b[49m\u001b[43mconnect\u001b[49m\u001b[43m(\u001b[49m\u001b[33;43m'\u001b[39;49m\u001b[33;43m/mnt/data/proton_reports.sqlite\u001b[39;49m\u001b[33;43m'\u001b[39;49m\u001b[43m)\u001b[49m\n\u001b[32m     27\u001b[39m os_df = pd.read_sql_query(\u001b[33m\"\u001b[39m\u001b[33mSELECT `systemInfo.os` AS os FROM reports WHERE os IS NOT NULL\u001b[39m\u001b[33m\"\u001b[39m, conn)\n\u001b[32m     28\u001b[39m os_df[\u001b[33m'\u001b[39m\u001b[33mos_family\u001b[39m\u001b[33m'\u001b[39m] = os_df[\u001b[33m'\u001b[39m\u001b[33mos\u001b[39m\u001b[33m'\u001b[39m].apply(categorize_os)\n",
      "\u001b[31mOperationalError\u001b[39m: unable to open database file"
     ]
    }
   ],
   "source": [
    "def categorize_os(os):\n",
    "    os = os.lower()\n",
    "    if 'arch' in os:\n",
    "        return 'Arch Linux'\n",
    "    elif 'ubuntu' in os:\n",
    "        return 'Ubuntu'\n",
    "    elif 'debian' in os:\n",
    "        return 'Debian'\n",
    "    elif 'fedora' in os:\n",
    "        return 'Fedora'\n",
    "    elif 'manjaro' in os:\n",
    "        return 'Manjaro'\n",
    "    elif 'opensuse' in os:\n",
    "        return 'openSUSE'\n",
    "    elif 'pop!_os' in os:\n",
    "        return 'Pop!_OS'\n",
    "    elif 'mint' in os:\n",
    "        return 'Linux Mint'\n",
    "    elif 'steamos' in os or 'holo' in os:\n",
    "        return 'SteamOS'\n",
    "    elif 'endeavouros' in os:\n",
    "        return 'EndeavourOS'\n",
    "    else:\n",
    "        return 'Other'\n",
    "\n",
    "conn = sqlite3.connect('/mnt/data/proton_reports.sqlite')\n",
    "os_df = pd.read_sql_query(\"SELECT `systemInfo.os` AS os FROM reports WHERE os IS NOT NULL\", conn)\n",
    "os_df['os_family'] = os_df['os'].apply(categorize_os)\n",
    "os_counts = os_df['os_family'].value_counts()\n",
    "sns.barplot(x=os_counts.index, y=os_counts.values, palette='muted')\n",
    "plt.title('Distribution of Linux Distros Among ProtonDB Reports')\n",
    "plt.xlabel('Linux Distro')\n",
    "plt.ylabel('Number of Reports')\n",
    "plt.xticks(rotation=45)\n",
    "plt.tight_layout()\n",
    "plt.show()"
   ]
  },
  {
   "cell_type": "markdown",
   "id": "1b4415f6",
   "metadata": {},
   "source": [
    "## 2. Sentiment Over Time\n",
    "Sentiment analysis of user notes reveals Proton’s growing reliability."
   ]
  },
  {
   "cell_type": "code",
   "execution_count": 4,
   "id": "59d5bb90",
   "metadata": {},
   "outputs": [
    {
     "ename": "NameError",
     "evalue": "name 'conn' is not defined",
     "output_type": "error",
     "traceback": [
      "\u001b[31m---------------------------------------------------------------------------\u001b[39m",
      "\u001b[31mNameError\u001b[39m                                 Traceback (most recent call last)",
      "\u001b[36mCell\u001b[39m\u001b[36m \u001b[39m\u001b[32mIn[4]\u001b[39m\u001b[32m, line 4\u001b[39m\n\u001b[32m      1\u001b[39m sentiment_df = pd.read_sql_query(\u001b[33m\"\"\"\u001b[39m\n\u001b[32m      2\u001b[39m \u001b[33mSELECT `timestamp` AS unix_time, `responses.concludingNotes` AS notes FROM reports\u001b[39m\n\u001b[32m      3\u001b[39m \u001b[33mWHERE `responses.concludingNotes` IS NOT NULL\u001b[39m\n\u001b[32m----> \u001b[39m\u001b[32m4\u001b[39m \u001b[33m\"\"\"\u001b[39m, \u001b[43mconn\u001b[49m)\n\u001b[32m      5\u001b[39m sentiment_df[\u001b[33m'\u001b[39m\u001b[33mnotes\u001b[39m\u001b[33m'\u001b[39m] = sentiment_df[\u001b[33m'\u001b[39m\u001b[33mnotes\u001b[39m\u001b[33m'\u001b[39m].astype(\u001b[38;5;28mstr\u001b[39m).str.lower()\n\u001b[32m      6\u001b[39m sentiment_df[\u001b[33m'\u001b[39m\u001b[33mdate\u001b[39m\u001b[33m'\u001b[39m] = pd.to_datetime(sentiment_df[\u001b[33m'\u001b[39m\u001b[33munix_time\u001b[39m\u001b[33m'\u001b[39m], unit=\u001b[33m'\u001b[39m\u001b[33ms\u001b[39m\u001b[33m'\u001b[39m)\n",
      "\u001b[31mNameError\u001b[39m: name 'conn' is not defined"
     ]
    }
   ],
   "source": [
    "sentiment_df = pd.read_sql_query(\"\"\"\n",
    "SELECT `timestamp` AS unix_time, `responses.concludingNotes` AS notes FROM reports\n",
    "WHERE `responses.concludingNotes` IS NOT NULL\n",
    "\"\"\", conn)\n",
    "sentiment_df['notes'] = sentiment_df['notes'].astype(str).str.lower()\n",
    "sentiment_df['date'] = pd.to_datetime(sentiment_df['unix_time'], unit='s')\n",
    "sentiment_df['year_month'] = sentiment_df['date'].dt.to_period('M')\n",
    "sentiment_df['sentiment'] = sentiment_df['notes'].apply(lambda x: TextBlob(x).sentiment.polarity)\n",
    "monthly_sentiment = sentiment_df.groupby('year_month')['sentiment'].mean().reset_index()\n",
    "monthly_sentiment['year_month'] = monthly_sentiment['year_month'].astype(str)\n",
    "sns.lineplot(data=monthly_sentiment, x='year_month', y='sentiment')\n",
    "plt.xticks(rotation=45, ha='right')\n",
    "plt.title('Average Sentiment of ProtonDB Reports Over Time')\n",
    "plt.xlabel('Month')\n",
    "plt.ylabel('Average Sentiment Score')\n",
    "plt.tight_layout()\n",
    "plt.show()"
   ]
  },
  {
   "cell_type": "code",
   "execution_count": null,
   "id": "37246459-1003-4847-bcfa-d85911c48b2b",
   "metadata": {},
   "outputs": [],
   "source": []
  }
 ],
 "metadata": {
  "kernelspec": {
   "display_name": "Python 3 (ipykernel)",
   "language": "python",
   "name": "python3"
  },
  "language_info": {
   "codemirror_mode": {
    "name": "ipython",
    "version": 3
   },
   "file_extension": ".py",
   "mimetype": "text/x-python",
   "name": "python",
   "nbconvert_exporter": "python",
   "pygments_lexer": "ipython3",
   "version": "3.13.3"
  }
 },
 "nbformat": 4,
 "nbformat_minor": 5
}
