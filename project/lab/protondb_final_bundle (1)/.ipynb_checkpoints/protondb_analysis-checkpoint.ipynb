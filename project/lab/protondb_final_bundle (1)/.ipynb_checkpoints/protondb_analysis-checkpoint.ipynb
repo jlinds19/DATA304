{
 "cells": [
  {
   "cell_type": "markdown",
   "id": "b568cd80",
   "metadata": {},
   "source": [
    "# ProtonDB Analysis Notebook\n",
    "\n",
    "This notebook walks through Linux gaming trends using ProtonDB data."
   ]
  },
  {
   "cell_type": "code",
   "execution_count": null,
   "id": "7a37c7db",
   "metadata": {},
   "outputs": [],
   "source": [
    "import pandas as pd\n",
    "import seaborn as sns\n",
    "import matplotlib.pyplot as plt\n",
    "from textblob import TextBlob\n",
    "import sqlite3"
   ]
  },
  {
   "cell_type": "markdown",
   "id": "aed14c66",
   "metadata": {},
   "source": [
    "## Walkthrough Script"
   ]
  },
  {
   "cell_type": "markdown",
   "id": "cd46a619",
   "metadata": {},
   "source": [
    "\n",
    "# ProtonDB Time Series Analysis — Video Walkthrough Script\n",
    "\n",
    "## 🎙️ Intro\n",
    "Hey everyone, and welcome to this walkthrough of my ProtonDB time series analysis project. The goal of this project is to explore how Linux users are running Windows games using Proton. I’ll cover which Linux distros are most popular among gamers, what kind of hardware they’re using, how their experiences have evolved over time, and what kinds of tweaks they rely on to get games running smoothly.\n",
    "\n",
    "## 📊 1. Linux Distro Usage\n",
    "This bar chart shows the number of ProtonDB reports submitted by users on different Linux distributions. Arch Linux leads among power users, while SteamOS reflects the growth of the Steam Deck.\n",
    "\n",
    "## 🔥 2. GPU Vendor by Distro (Heatmap)\n",
    "The heatmap shows that AMD is dominant on SteamOS, while Ubuntu and Arch users are evenly split between AMD and NVIDIA.\n",
    "\n",
    "## 😊 3. Sentiment Over Time\n",
    "Sentiment has trended upward, showing Proton's growth in reliability. This means more games work out-of-the-box and users are increasingly satisfied.\n",
    "\n",
    "## 🎮 4. Game-Specific OS + GPU Trends\n",
    "These charts show the most common OS and GPU combinations used for each title. Arch Linux dominates power-user titles like Cyberpunk and Elden Ring.\n",
    "\n",
    "## 🛠️ 5. Tinkering and Workarounds\n",
    "A breakdown of common tweaks used by Linux gamers — custom Proton builds (GE), DXVK/VKD3D, and launch options are most frequent.\n",
    "\n",
    "## ✅ Final Summary\n",
    "To wrap up — Proton has come a long way. The data shows:\n",
    "- More users than ever are getting games to work without needing heavy tweaks.\n",
    "- SteamOS and AMD have surged thanks to the Steam Deck.\n",
    "- Arch Linux and NVIDIA remain popular among hardcore gamers.\n",
    "- Sentiment has improved dramatically, reflecting the maturation of Proton and the growing confidence of the Linux gaming community.\n"
   ]
  }
 ],
 "metadata": {},
 "nbformat": 4,
 "nbformat_minor": 5
}
