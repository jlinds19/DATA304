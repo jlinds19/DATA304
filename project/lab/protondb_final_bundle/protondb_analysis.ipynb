{
 "cells": [
  {
   "cell_type": "code",
   "execution_count": 3,
   "id": "b331ad1c-f825-44c5-b584-3984bb600381",
   "metadata": {},
   "outputs": [],
   "source": [
    "import pandas as pd\n",
    "import seaborn as sns\n",
    "import matplotlib.pyplot as plt\n",
    "import sqlite3"
   ]
  },
  {
   "cell_type": "markdown",
   "id": "fcde9faf",
   "metadata": {},
   "source": [
    "# ProtonDB Analysis: Hardware, Software, and Sentiment Insights\n",
    "\n",
    "This notebook walks through the major findings from our ProtonDB data analysis, including hardware/software distributions, user sentiment, and game-specific patterns."
   ]
  },
  {
   "cell_type": "markdown",
   "id": "6f67ba29",
   "metadata": {},
   "source": [
    "## 1. Linux Distro Usage\n",
    "This chart shows the number of reports per Linux distro. Arch Linux leads among power users, while SteamOS reflects the growth of the Steam Deck."
   ]
  },
  {
   "cell_type": "code",
   "execution_count": 4,
   "id": "51feb8b0",
   "metadata": {},
   "outputs": [
    {
     "ename": "NameError",
     "evalue": "name 'os_counts' is not defined",
     "output_type": "error",
     "traceback": [
      "\u001b[31m---------------------------------------------------------------------------\u001b[39m",
      "\u001b[31mNameError\u001b[39m                                 Traceback (most recent call last)",
      "\u001b[36mCell\u001b[39m\u001b[36m \u001b[39m\u001b[32mIn[4]\u001b[39m\u001b[32m, line 1\u001b[39m\n\u001b[32m----> \u001b[39m\u001b[32m1\u001b[39m sns.barplot(x=\u001b[43mos_counts\u001b[49m.index, y=os_counts.values, palette=\u001b[33m\"\u001b[39m\u001b[33mmuted\u001b[39m\u001b[33m\"\u001b[39m)\n\u001b[32m      2\u001b[39m plt.title(\u001b[33m\"\u001b[39m\u001b[33mDistribution of Linux Distros Among ProtonDB Reports\u001b[39m\u001b[33m\"\u001b[39m)\n\u001b[32m      3\u001b[39m plt.xlabel(\u001b[33m\"\u001b[39m\u001b[33mLinux Distro\u001b[39m\u001b[33m\"\u001b[39m)\n",
      "\u001b[31mNameError\u001b[39m: name 'os_counts' is not defined"
     ]
    }
   ],
   "source": [
    "sns.barplot(x=os_counts.index, y=os_counts.values, palette=\"muted\")\n",
    "plt.title(\"Distribution of Linux Distros Among ProtonDB Reports\")\n",
    "plt.xlabel(\"Linux Distro\")\n",
    "plt.ylabel(\"Number of Reports\")\n",
    "plt.xticks(rotation=45)\n",
    "plt.tight_layout()\n",
    "plt.show()"
   ]
  },
  {
   "cell_type": "markdown",
   "id": "90ae848c",
   "metadata": {},
   "source": [
    "## 2. GPU Vendor vs Linux Distro (Heatmap)\n",
    "This heatmap reveals GPU distribution across major distros. AMD dominates SteamOS, while Arch and Ubuntu show a healthy vendor mix."
   ]
  },
  {
   "cell_type": "code",
   "execution_count": null,
   "id": "e8f6c66b",
   "metadata": {},
   "outputs": [],
   "source": [
    "sns.heatmap(heatmap_data, annot=True, fmt=\"d\", cmap=\"YlGnBu\")\n",
    "plt.title(\"Heatmap of GPU Vendor vs. Linux Distro Usage\")\n",
    "plt.xlabel(\"Linux Distro\")\n",
    "plt.ylabel(\"GPU Vendor\")\n",
    "plt.tight_layout()\n",
    "plt.show()"
   ]
  },
  {
   "cell_type": "markdown",
   "id": "4814abb3",
   "metadata": {},
   "source": [
    "## 3. Sentiment Over Time\n",
    "User sentiment has improved steadily, showing Proton's maturity and better out-of-the-box compatibility."
   ]
  },
  {
   "cell_type": "code",
   "execution_count": null,
   "id": "084c12b6",
   "metadata": {},
   "outputs": [],
   "source": [
    "sns.lineplot(data=monthly_sentiment, x=\"year_month\", y=\"sentiment\")\n",
    "plt.xticks(rotation=45, ha='right')\n",
    "plt.title(\"Average Sentiment of ProtonDB Reports Over Time\")\n",
    "plt.xlabel(\"Month\")\n",
    "plt.ylabel(\"Average Sentiment Score\")\n",
    "plt.tight_layout()\n",
    "plt.show()"
   ]
  },
  {
   "cell_type": "markdown",
   "id": "e2f508bd",
   "metadata": {},
   "source": [
    "## 4. Game-Specific OS + GPU Trends\n",
    "These charts show the most common OS and GPU combinations used for each title. Arch Linux dominates power-user titles like Cyberpunk and Elden Ring."
   ]
  },
  {
   "cell_type": "code",
   "execution_count": null,
   "id": "464f5a24",
   "metadata": {},
   "outputs": [],
   "source": [
    "# Plot for Cyberpunk 2077 (example)\n",
    "subset = combo_distribution[combo_distribution[\"game\"] == \"Cyberpunk 2077\"]\n",
    "sns.barplot(data=subset, x=\"os_family\", y=\"proportion\", hue=\"gpu_vendor\", palette=\"Set2\")\n",
    "plt.title(\"OS + GPU Share for 'Cyberpunk 2077'\")\n",
    "plt.xlabel(\"Linux Distro\")\n",
    "plt.ylabel(\"Share of Reports\")\n",
    "plt.xticks(rotation=45)\n",
    "plt.legend(title=\"GPU\", loc=\"upper left\", bbox_to_anchor=(1, 1))\n",
    "plt.tight_layout()\n",
    "plt.show()"
   ]
  },
  {
   "cell_type": "markdown",
   "id": "bc382be2",
   "metadata": {},
   "source": [
    "## 5. Tinkering and Workarounds\n",
    "A breakdown of common tweaks used by Linux gamers — custom Proton builds (GE), DXVK/VKD3D, and launch options are most frequent."
   ]
  },
  {
   "cell_type": "code",
   "execution_count": null,
   "id": "eb2cded7",
   "metadata": {},
   "outputs": [],
   "source": [
    "tweak_freq_df.plot(kind=\"bar\", figsize=(10, 5), legend=False)\n",
    "plt.title(\"Most Common Customizations Mentioned in ProtonDB Notes\")\n",
    "plt.xlabel(\"Tweak Keyword\")\n",
    "plt.ylabel(\"Mentions\")\n",
    "plt.tight_layout()\n",
    "plt.show()"
   ]
  }
 ],
 "metadata": {
  "kernelspec": {
   "display_name": "Python 3 (ipykernel)",
   "language": "python",
   "name": "python3"
  },
  "language_info": {
   "codemirror_mode": {
    "name": "ipython",
    "version": 3
   },
   "file_extension": ".py",
   "mimetype": "text/x-python",
   "name": "python",
   "nbconvert_exporter": "python",
   "pygments_lexer": "ipython3",
   "version": "3.13.3"
  }
 },
 "nbformat": 4,
 "nbformat_minor": 5
}
